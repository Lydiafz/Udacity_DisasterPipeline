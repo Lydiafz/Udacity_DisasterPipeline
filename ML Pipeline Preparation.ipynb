{
 "cells": [
  {
   "cell_type": "markdown",
   "metadata": {},
   "source": [
    "# ML Pipeline Preparation\n",
    "Follow the instructions below to help you create your ML pipeline.\n",
    "### 1. Import libraries and load data from database.\n",
    "- Import Python libraries\n",
    "- Load dataset from database with [`read_sql_table`](https://pandas.pydata.org/pandas-docs/stable/generated/pandas.read_sql_table.html)\n",
    "- Define feature and target variables X and Y"
   ]
  },
  {
   "cell_type": "code",
   "execution_count": 3,
   "metadata": {},
   "outputs": [
    {
     "name": "stdout",
     "output_type": "stream",
     "text": [
      "[nltk_data] Downloading package punkt to /root/nltk_data...\n",
      "[nltk_data]   Unzipping tokenizers/punkt.zip.\n",
      "[nltk_data] Downloading package wordnet to /root/nltk_data...\n",
      "[nltk_data]   Unzipping corpora/wordnet.zip.\n",
      "[nltk_data] Downloading package stopwords to /root/nltk_data...\n",
      "[nltk_data]   Unzipping corpora/stopwords.zip.\n"
     ]
    },
    {
     "data": {
      "text/plain": [
       "True"
      ]
     },
     "execution_count": 3,
     "metadata": {},
     "output_type": "execute_result"
    }
   ],
   "source": [
    "import nltk\n",
    "nltk.download(['punkt','wordnet','stopwords'])\n"
   ]
  },
  {
   "cell_type": "code",
   "execution_count": 4,
   "metadata": {},
   "outputs": [],
   "source": [
    "# import libraries\n",
    "import pandas as pd\n",
    "import numpy as np\n",
    "import re\n",
    "import joblib\n",
    "from sqlalchemy import create_engine \n",
    "\n",
    "from nltk.tokenize import word_tokenize\n",
    "from nltk.stem import WordNetLemmatizer\n",
    "\n",
    "from sklearn.metrics import confusion_matrix\n",
    "from sklearn.model_selection import GridSearchCV\n",
    "from sklearn.ensemble import RandomForestClassifier\n",
    "from sklearn.model_selection import train_test_split\n",
    "from sklearn.pipeline import Pipeline, FeatureUnion\n",
    "from sklearn.base import BaseEstimator, TransformerMixin\n",
    "from sklearn.feature_extraction.text import CountVectorizer,TfidfTransformer\n",
    "from sklearn.multioutput import MultiOutputClassifier\n",
    "from nltk.corpus import stopwords\n",
    "from sklearn.metrics import classification_report\n",
    "from sklearn.metrics import precision_recall_fscore_support\n",
    "from sklearn.utils.multiclass import type_of_target"
   ]
  },
  {
   "cell_type": "code",
   "execution_count": 5,
   "metadata": {},
   "outputs": [],
   "source": [
    "# load data from database\n",
    "engine = create_engine('sqlite:///Project3.db')\n",
    "df = pd.read_sql_table('DisasterData',engine)\n",
    "X=df.iloc[:,1]\n",
    "Y=df.iloc[:,4:]\n"
   ]
  },
  {
   "cell_type": "markdown",
   "metadata": {},
   "source": [
    "### 2. Write a tokenization function to process your text data"
   ]
  },
  {
   "cell_type": "code",
   "execution_count": 6,
   "metadata": {},
   "outputs": [],
   "source": [
    "def tokenize(text):\n",
    "    # remove punctuations\n",
    "    text = re.sub(r\"[^a-zA-Z0-9]\",\" \",text)\n",
    "    # tokenize text into words\n",
    "    tokens = nltk.word_tokenize(text)\n",
    "    # remove stop words\n",
    "    tokens = [x for x in tokens if x not in stopwords.words(\"english\")]\n",
    "    lemmatizer=WordNetLemmatizer()\n",
    "    clean_tokens=[]\n",
    "    for tok in tokens:\n",
    "        clean_tok=lemmatizer.lemmatize(tok).lower().strip()\n",
    "        clean_tokens.append(clean_tok)\n",
    "    return clean_tokens"
   ]
  },
  {
   "cell_type": "markdown",
   "metadata": {},
   "source": [
    "### 3. Build a machine learning pipeline\n",
    "This machine pipeline should take in the `message` column as input and output classification results on the other 36 categories in the dataset. You may find the [MultiOutputClassifier](http://scikit-learn.org/stable/modules/generated/sklearn.multioutput.MultiOutputClassifier.html) helpful for predicting multiple target variables."
   ]
  },
  {
   "cell_type": "code",
   "execution_count": 7,
   "metadata": {},
   "outputs": [],
   "source": [
    "pipeline = Pipeline([('vect',CountVectorizer(tokenizer=tokenize)),\n",
    "                    ('tfidf',TfidfTransformer()),\n",
    "                   ('clf',MultiOutputClassifier(RandomForestClassifier()))])"
   ]
  },
  {
   "cell_type": "markdown",
   "metadata": {},
   "source": [
    "### 4. Train pipeline\n",
    "- Split data into train and test sets\n",
    "- Train pipeline"
   ]
  },
  {
   "cell_type": "code",
   "execution_count": 8,
   "metadata": {
    "scrolled": true
   },
   "outputs": [
    {
     "data": {
      "text/plain": [
       "Pipeline(memory=None,\n",
       "     steps=[('vect', CountVectorizer(analyzer='word', binary=False, decode_error='strict',\n",
       "        dtype=<class 'numpy.int64'>, encoding='utf-8', input='content',\n",
       "        lowercase=True, max_df=1.0, max_features=None, min_df=1,\n",
       "        ngram_range=(1, 1), preprocessor=None, stop_words=None,\n",
       "        strip...oob_score=False, random_state=None, verbose=0,\n",
       "            warm_start=False),\n",
       "           n_jobs=1))])"
      ]
     },
     "execution_count": 8,
     "metadata": {},
     "output_type": "execute_result"
    }
   ],
   "source": [
    "# split data into train and test sets\n",
    "X_train, X_test,y_train,y_test=train_test_split(X,Y,test_size=0.3,random_state=42 )\n",
    "\n",
    "# train pipeline\n",
    "\n",
    "pipeline.fit(X_train,y_train)\n",
    "    "
   ]
  },
  {
   "cell_type": "markdown",
   "metadata": {},
   "source": [
    "### 5. Test your model\n",
    "Report the f1 score, precision and recall for each output category of the dataset. You can do this by iterating through the columns and calling sklearn's `classification_report` on each."
   ]
  },
  {
   "cell_type": "code",
   "execution_count": 9,
   "metadata": {
    "scrolled": true
   },
   "outputs": [
    {
     "name": "stdout",
     "output_type": "stream",
     "text": [
      "                        precision    recall  f1-score   support\n",
      "\n",
      "               related       1.00      0.03      0.07        58\n",
      "               request       0.80      0.41      0.54      1332\n",
      "                 offer       0.00      0.00      0.00        36\n",
      "           aid_related       0.73      0.61      0.67      3219\n",
      "          medical_help       0.49      0.08      0.14       638\n",
      "      medical_products       0.73      0.08      0.14       418\n",
      "     search_and_rescue       0.75      0.05      0.09       192\n",
      "              security       0.00      0.00      0.00       144\n",
      "              military       0.54      0.09      0.15       245\n",
      "           child_alone       0.00      0.00      0.00         0\n",
      "                 water       0.86      0.27      0.41       500\n",
      "                  food       0.85      0.41      0.55       878\n",
      "               shelter       0.76      0.33      0.46       705\n",
      "              clothing       0.80      0.10      0.18       115\n",
      "                 money       0.80      0.05      0.09       170\n",
      "        missing_people       0.57      0.04      0.08        92\n",
      "              refugees       0.44      0.05      0.08       260\n",
      "                 death       0.78      0.13      0.22       366\n",
      "             other_aid       0.51      0.05      0.09      1033\n",
      "infrastructure_related       0.40      0.00      0.01       505\n",
      "             transport       0.60      0.04      0.08       362\n",
      "             buildings       0.72      0.11      0.19       392\n",
      "           electricity       0.62      0.03      0.06       168\n",
      "                 tools       0.00      0.00      0.00        48\n",
      "             hospitals       0.00      0.00      0.00        78\n",
      "                 shops       0.00      0.00      0.00        28\n",
      "           aid_centers       0.00      0.00      0.00       103\n",
      "  other_infrastructure       0.33      0.01      0.01       341\n",
      "       weather_related       0.83      0.62      0.71      2163\n",
      "                floods       0.87      0.32      0.47       623\n",
      "                 storm       0.77      0.46      0.57       738\n",
      "                  fire       0.33      0.01      0.02        83\n",
      "            earthquake       0.87      0.75      0.80       702\n",
      "                  cold       0.64      0.04      0.08       171\n",
      "         other_weather       0.47      0.05      0.09       415\n",
      "         direct_report       0.73      0.32      0.44      1544\n",
      "\n",
      "           avg / total       0.70      0.34      0.42     18865\n",
      "\n"
     ]
    },
    {
     "name": "stderr",
     "output_type": "stream",
     "text": [
      "/opt/conda/lib/python3.6/site-packages/sklearn/metrics/classification.py:1135: UndefinedMetricWarning: Precision and F-score are ill-defined and being set to 0.0 in labels with no predicted samples.\n",
      "  'precision', 'predicted', average, warn_for)\n",
      "/opt/conda/lib/python3.6/site-packages/sklearn/metrics/classification.py:1137: UndefinedMetricWarning: Recall and F-score are ill-defined and being set to 0.0 in labels with no true samples.\n",
      "  'recall', 'true', average, warn_for)\n"
     ]
    }
   ],
   "source": [
    "y_pred=pipeline.predict(X_test)\n",
    "category_names=Y.columns.values\n",
    "print (classification_report(y_test,y_pred,target_names=category_names))"
   ]
  },
  {
   "cell_type": "markdown",
   "metadata": {},
   "source": [
    "### 6. Improve your model\n",
    "Use grid search to find better parameters. "
   ]
  },
  {
   "cell_type": "code",
   "execution_count": 164,
   "metadata": {},
   "outputs": [
    {
     "data": {
      "text/plain": [
       "dict_keys(['memory', 'steps', 'vect', 'tfidf', 'clf', 'vect__analyzer', 'vect__binary', 'vect__decode_error', 'vect__dtype', 'vect__encoding', 'vect__input', 'vect__lowercase', 'vect__max_df', 'vect__max_features', 'vect__min_df', 'vect__ngram_range', 'vect__preprocessor', 'vect__stop_words', 'vect__strip_accents', 'vect__token_pattern', 'vect__tokenizer', 'vect__vocabulary', 'tfidf__norm', 'tfidf__smooth_idf', 'tfidf__sublinear_tf', 'tfidf__use_idf', 'clf__estimator__bootstrap', 'clf__estimator__class_weight', 'clf__estimator__criterion', 'clf__estimator__max_depth', 'clf__estimator__max_features', 'clf__estimator__max_leaf_nodes', 'clf__estimator__min_impurity_decrease', 'clf__estimator__min_impurity_split', 'clf__estimator__min_samples_leaf', 'clf__estimator__min_samples_split', 'clf__estimator__min_weight_fraction_leaf', 'clf__estimator__n_estimators', 'clf__estimator__n_jobs', 'clf__estimator__oob_score', 'clf__estimator__random_state', 'clf__estimator__verbose', 'clf__estimator__warm_start', 'clf__estimator', 'clf__n_jobs'])"
      ]
     },
     "execution_count": 164,
     "metadata": {},
     "output_type": "execute_result"
    }
   ],
   "source": [
    "pipeline.get_params().keys()"
   ]
  },
  {
   "cell_type": "code",
   "execution_count": 18,
   "metadata": {},
   "outputs": [],
   "source": [
    "parameters = {'vect__ngram_range':((1,1),(1,2)),\n",
    "              'vect__max_df':(0.5,0.75,1.0)}\n",
    "cv = GridSearchCV(estimator=pipeline,param_grid=parameters)"
   ]
  },
  {
   "cell_type": "markdown",
   "metadata": {},
   "source": [
    "### 7. Test your model\n",
    "Show the accuracy, precision, and recall of the tuned model.  \n",
    "\n",
    "Since this project focuses on code quality, process, and  pipelines, there is no minimum performance metric needed to pass. However, make sure to fine tune your models for accuracy, precision and recall to make your project stand out - especially for your portfolio!"
   ]
  },
  {
   "cell_type": "code",
   "execution_count": 19,
   "metadata": {},
   "outputs": [
    {
     "data": {
      "text/plain": [
       "GridSearchCV(cv=None, error_score='raise',\n",
       "       estimator=Pipeline(memory=None,\n",
       "     steps=[('vect', CountVectorizer(analyzer='word', binary=False, decode_error='strict',\n",
       "        dtype=<class 'numpy.int64'>, encoding='utf-8', input='content',\n",
       "        lowercase=True, max_df=1.0, max_features=None, min_df=1,\n",
       "        ngram_range=(1, 1), preprocessor=None, stop_words=None,\n",
       "        strip...oob_score=False, random_state=None, verbose=0,\n",
       "            warm_start=False),\n",
       "           n_jobs=1))]),\n",
       "       fit_params=None, iid=True, n_jobs=1,\n",
       "       param_grid={'vect__ngram_range': ((1, 1), (1, 2)), 'vect__max_df': (0.5, 0.75, 1.0)},\n",
       "       pre_dispatch='2*n_jobs', refit=True, return_train_score='warn',\n",
       "       scoring=None, verbose=0)"
      ]
     },
     "execution_count": 19,
     "metadata": {},
     "output_type": "execute_result"
    }
   ],
   "source": [
    "# fit the model\n",
    "cv.fit(X_train,y_train)"
   ]
  },
  {
   "cell_type": "code",
   "execution_count": 20,
   "metadata": {},
   "outputs": [
    {
     "name": "stdout",
     "output_type": "stream",
     "text": [
      "                        precision    recall  f1-score   support\n",
      "\n",
      "               related       0.67      0.03      0.07        58\n",
      "               request       0.79      0.47      0.59      1332\n",
      "                 offer       0.00      0.00      0.00        36\n",
      "           aid_related       0.74      0.53      0.62      3219\n",
      "          medical_help       0.56      0.10      0.17       638\n",
      "      medical_products       0.79      0.08      0.15       418\n",
      "     search_and_rescue       0.82      0.05      0.09       192\n",
      "              security       0.20      0.01      0.01       144\n",
      "              military       0.45      0.04      0.07       245\n",
      "           child_alone       0.00      0.00      0.00         0\n",
      "                 water       0.84      0.28      0.42       500\n",
      "                  food       0.86      0.51      0.64       878\n",
      "               shelter       0.79      0.26      0.39       705\n",
      "              clothing       0.59      0.09      0.15       115\n",
      "                 money       0.89      0.05      0.09       170\n",
      "        missing_people       0.00      0.00      0.00        92\n",
      "              refugees       0.40      0.07      0.12       260\n",
      "                 death       0.78      0.19      0.30       366\n",
      "             other_aid       0.49      0.06      0.10      1033\n",
      "infrastructure_related       0.33      0.01      0.01       505\n",
      "             transport       0.81      0.05      0.09       362\n",
      "             buildings       0.85      0.11      0.20       392\n",
      "           electricity       1.00      0.03      0.06       168\n",
      "                 tools       0.00      0.00      0.00        48\n",
      "             hospitals       1.00      0.01      0.03        78\n",
      "                 shops       0.00      0.00      0.00        28\n",
      "           aid_centers       0.00      0.00      0.00       103\n",
      "  other_infrastructure       0.20      0.00      0.01       341\n",
      "       weather_related       0.83      0.56      0.67      2163\n",
      "                floods       0.84      0.32      0.47       623\n",
      "                 storm       0.74      0.35      0.48       738\n",
      "                  fire       0.25      0.01      0.02        83\n",
      "            earthquake       0.87      0.68      0.76       702\n",
      "                  cold       0.50      0.01      0.01       171\n",
      "         other_weather       0.58      0.03      0.05       415\n",
      "         direct_report       0.72      0.28      0.40      1544\n",
      "\n",
      "           avg / total       0.71      0.32      0.41     18865\n",
      "\n"
     ]
    },
    {
     "name": "stderr",
     "output_type": "stream",
     "text": [
      "/opt/conda/lib/python3.6/site-packages/sklearn/metrics/classification.py:1135: UndefinedMetricWarning: Precision and F-score are ill-defined and being set to 0.0 in labels with no predicted samples.\n",
      "  'precision', 'predicted', average, warn_for)\n",
      "/opt/conda/lib/python3.6/site-packages/sklearn/metrics/classification.py:1137: UndefinedMetricWarning: Recall and F-score are ill-defined and being set to 0.0 in labels with no true samples.\n",
      "  'recall', 'true', average, warn_for)\n"
     ]
    }
   ],
   "source": [
    "# test the model\n",
    "y_pred_cv = cv.predict(X_test)\n",
    "category_names=Y.columns.values\n",
    "print(classification_report(y_test,y_pred_cv,target_names=category_names))"
   ]
  },
  {
   "cell_type": "markdown",
   "metadata": {},
   "source": [
    "### 8. Try improving your model further. Here are a few ideas:\n",
    "* try other machine learning algorithms\n",
    "* add other features besides the TF-IDF"
   ]
  },
  {
   "cell_type": "code",
   "execution_count": 26,
   "metadata": {},
   "outputs": [
    {
     "data": {
      "text/plain": [
       "GridSearchCV(cv=None, error_score='raise',\n",
       "       estimator=Pipeline(memory=None,\n",
       "     steps=[('vect', CountVectorizer(analyzer='word', binary=False, decode_error='strict',\n",
       "        dtype=<class 'numpy.int64'>, encoding='utf-8', input='content',\n",
       "        lowercase=True, max_df=1.0, max_features=None, min_df=1,\n",
       "        ngram_range=(1, 1), preprocessor=None, stop_words=None,\n",
       "        strip...ion_leaf=0.0, presort=False, random_state=None,\n",
       "            splitter='best'),\n",
       "           n_jobs=1))]),\n",
       "       fit_params=None, iid=True, n_jobs=1,\n",
       "       param_grid={'clf__estimator__criterion': ['gini'], 'clf__estimator__max_depth': [2, 4, 6]},\n",
       "       pre_dispatch='2*n_jobs', refit=True, return_train_score='warn',\n",
       "       scoring=None, verbose=0)"
      ]
     },
     "execution_count": 26,
     "metadata": {},
     "output_type": "execute_result"
    }
   ],
   "source": [
    "from sklearn.tree import DecisionTreeClassifier\n",
    "\n",
    "pipeline_new = Pipeline([('vect',CountVectorizer(tokenizer=tokenize)),\n",
    "                    ('tfidf',TfidfTransformer()),\n",
    "                   ('clf',MultiOutputClassifier(DecisionTreeClassifier()))])\n",
    "#find better parameters \n",
    "pipeline_new.get_params().keys()\n",
    "parameter_tree={'clf__estimator__criterion':['gini'],\n",
    "                'clf__estimator__max_depth':[2,4,6]}\n",
    "cv_new=GridSearchCV(estimator=pipeline_new,param_grid=parameter_tree)\n",
    "\n",
    "# train the new pipeline\n",
    "cv_new.fit(X_train,y_train)"
   ]
  },
  {
   "cell_type": "code",
   "execution_count": 27,
   "metadata": {},
   "outputs": [
    {
     "name": "stdout",
     "output_type": "stream",
     "text": [
      "                        precision    recall  f1-score   support\n",
      "\n",
      "               related       0.73      0.14      0.23        58\n",
      "               request       0.79      0.41      0.54      1332\n",
      "                 offer       0.00      0.00      0.00        36\n",
      "           aid_related       0.68      0.54      0.60      3219\n",
      "          medical_help       0.58      0.20      0.30       638\n",
      "      medical_products       0.71      0.29      0.41       418\n",
      "     search_and_rescue       0.60      0.24      0.34       192\n",
      "              security       0.20      0.01      0.03       144\n",
      "              military       0.48      0.24      0.32       245\n",
      "           child_alone       0.00      0.00      0.00         0\n",
      "                 water       0.79      0.57      0.67       500\n",
      "                  food       0.80      0.79      0.80       878\n",
      "               shelter       0.79      0.54      0.64       705\n",
      "              clothing       0.70      0.42      0.52       115\n",
      "                 money       0.55      0.21      0.31       170\n",
      "        missing_people       0.71      0.18      0.29        92\n",
      "              refugees       0.60      0.30      0.40       260\n",
      "                 death       0.77      0.51      0.61       366\n",
      "             other_aid       0.52      0.16      0.25      1033\n",
      "infrastructure_related       0.38      0.03      0.05       505\n",
      "             transport       0.64      0.16      0.25       362\n",
      "             buildings       0.76      0.22      0.34       392\n",
      "           electricity       0.68      0.09      0.16       168\n",
      "                 tools       0.00      0.00      0.00        48\n",
      "             hospitals       0.29      0.05      0.09        78\n",
      "                 shops       0.00      0.00      0.00        28\n",
      "           aid_centers       0.31      0.04      0.07       103\n",
      "  other_infrastructure       0.42      0.05      0.08       341\n",
      "       weather_related       0.88      0.52      0.66      2163\n",
      "                floods       0.83      0.58      0.68       623\n",
      "                 storm       0.75      0.60      0.67       738\n",
      "                  fire       0.53      0.33      0.40        83\n",
      "            earthquake       0.88      0.80      0.84       702\n",
      "                  cold       0.76      0.36      0.49       171\n",
      "         other_weather       0.57      0.16      0.25       415\n",
      "         direct_report       0.75      0.30      0.43      1544\n",
      "\n",
      "           avg / total       0.70      0.42      0.50     18865\n",
      "\n"
     ]
    },
    {
     "name": "stderr",
     "output_type": "stream",
     "text": [
      "/opt/conda/lib/python3.6/site-packages/sklearn/metrics/classification.py:1135: UndefinedMetricWarning: Precision and F-score are ill-defined and being set to 0.0 in labels with no predicted samples.\n",
      "  'precision', 'predicted', average, warn_for)\n",
      "/opt/conda/lib/python3.6/site-packages/sklearn/metrics/classification.py:1137: UndefinedMetricWarning: Recall and F-score are ill-defined and being set to 0.0 in labels with no true samples.\n",
      "  'recall', 'true', average, warn_for)\n"
     ]
    }
   ],
   "source": [
    "# test the pipeline model\n",
    "\n",
    "category_names=Y.columns.values\n",
    "y_pred_tree=cv_new.predict(X_test)\n",
    "print(classification_report(y_test,y_pred_tree,target_names=category_names))"
   ]
  },
  {
   "cell_type": "markdown",
   "metadata": {},
   "source": [
    "### 9. Export your model as a pickle file"
   ]
  },
  {
   "cell_type": "code",
   "execution_count": null,
   "metadata": {},
   "outputs": [],
   "source": [
    "import pickle\n",
    "filename='final_model.pkl'\n",
    "with open(filename,'wb') as file:\n",
    "    pickle.dump(cv_new)"
   ]
  },
  {
   "cell_type": "markdown",
   "metadata": {},
   "source": [
    "### 10. Use this notebook to complete `train.py`\n",
    "Use the template file attached in the Resources folder to write a script that runs the steps above to create a database and export a model based on a new dataset specified by the user."
   ]
  },
  {
   "cell_type": "code",
   "execution_count": null,
   "metadata": {},
   "outputs": [],
   "source": []
  }
 ],
 "metadata": {
  "kernelspec": {
   "display_name": "Python 3",
   "language": "python",
   "name": "python3"
  },
  "language_info": {
   "codemirror_mode": {
    "name": "ipython",
    "version": 3
   },
   "file_extension": ".py",
   "mimetype": "text/x-python",
   "name": "python",
   "nbconvert_exporter": "python",
   "pygments_lexer": "ipython3",
   "version": "3.6.3"
  }
 },
 "nbformat": 4,
 "nbformat_minor": 2
}
